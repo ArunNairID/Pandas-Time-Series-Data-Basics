{
 "cells": [
  {
   "cell_type": "markdown",
   "metadata": {
    "collapsed": true
   },
   "source": [
    "**Pandas Time Series Data**\n",
    "\n",
    "The Pandas Python package makes it absolutely painless to handle time series data (TS). Solving time series problems in Python is not so much fun sometimes. But, because Pandas dedicated libraries contain many timeseries object optimizations, solving TS problems with Pandas can be done in a straightforward manner.  \n",
    "\n",
    "The Pandas library provides simple, but powerful tools to perform any data tasks, especially when it comes to time series data. \n",
    "\n",
    "The NumPy datatime64[ns] and timedelta64 dtypes definitely make my job a lot more fun. I use Pandas every day, so you can take my word for it. \n",
    "\n",
    "In this notebook I will be covering 3 basic functionalities for manipulating time series data:\n",
    "\n",
    "* Date Ranges\n",
    "* DatetimeIndex & Timestamps\n",
    "* Resampling"
   ]
  },
  {
   "cell_type": "markdown",
   "metadata": {},
   "source": [
    "**Date Ranges**\n",
    "\n",
    "First, we will create a Datetimeindex with the frequency of one hour.  The date range will be from January 1st. 2016 to the date of this notebook, November 30th. \n",
    "In this notebook I am using Pandas version '0.19.1' for the examples."
   ]
  },
  {
   "cell_type": "code",
   "execution_count": 375,
   "metadata": {
    "collapsed": false
   },
   "outputs": [
    {
     "data": {
      "text/plain": [
       "'0.19.1'"
      ]
     },
     "execution_count": 375,
     "metadata": {},
     "output_type": "execute_result"
    }
   ],
   "source": [
    "# First we import Pandas, NumPy and Matplotlib\n",
    "import pandas as pd\n",
    "import numpy as np\n",
    "import matplotlib.pyplot as plt\n",
    "%matplotlib inline\n",
    "plt.style.use('ggplot')\n",
    "import seaborn as sn\n",
    "pd.__version__"
   ]
  },
  {
   "cell_type": "code",
   "execution_count": 376,
   "metadata": {
    "collapsed": false
   },
   "outputs": [
    {
     "data": {
      "text/plain": [
       "DatetimeIndex(['2016-01-01 00:00:00', '2016-01-01 01:00:00',\n",
       "               '2016-01-01 02:00:00', '2016-01-01 03:00:00',\n",
       "               '2016-01-01 04:00:00', '2016-01-01 05:00:00',\n",
       "               '2016-01-01 06:00:00', '2016-01-01 07:00:00',\n",
       "               '2016-01-01 08:00:00', '2016-01-01 09:00:00',\n",
       "               ...\n",
       "               '2016-11-29 15:00:00', '2016-11-29 16:00:00',\n",
       "               '2016-11-29 17:00:00', '2016-11-29 18:00:00',\n",
       "               '2016-11-29 19:00:00', '2016-11-29 20:00:00',\n",
       "               '2016-11-29 21:00:00', '2016-11-29 22:00:00',\n",
       "               '2016-11-29 23:00:00', '2016-11-30 00:00:00'],\n",
       "              dtype='datetime64[ns]', length=8017, freq='H')"
      ]
     },
     "execution_count": 376,
     "metadata": {},
     "output_type": "execute_result"
    }
   ],
   "source": [
    "hours = pd.date_range('1/1/2016', '11/30/2016', freq='H')\n",
    "hours # displaying the first and the last 10 rows."
   ]
  },
  {
   "cell_type": "markdown",
   "metadata": {},
   "source": [
    "Next, we construct a DataFrame assigning ***hours*** , the DatetimeIndex values, to one of the columns and assigning random integers to the other column."
   ]
  },
  {
   "cell_type": "code",
   "execution_count": 377,
   "metadata": {
    "collapsed": false
   },
   "outputs": [
    {
     "data": {
      "text/html": [
       "<div>\n",
       "<table border=\"1\" class=\"dataframe\">\n",
       "  <thead>\n",
       "    <tr style=\"text-align: right;\">\n",
       "      <th></th>\n",
       "      <th>col1</th>\n",
       "      <th>col2</th>\n",
       "    </tr>\n",
       "  </thead>\n",
       "  <tbody>\n",
       "    <tr>\n",
       "      <th>0</th>\n",
       "      <td>2016-01-01 00:00:00</td>\n",
       "      <td>29</td>\n",
       "    </tr>\n",
       "    <tr>\n",
       "      <th>1</th>\n",
       "      <td>2016-01-01 01:00:00</td>\n",
       "      <td>56</td>\n",
       "    </tr>\n",
       "    <tr>\n",
       "      <th>2</th>\n",
       "      <td>2016-01-01 02:00:00</td>\n",
       "      <td>82</td>\n",
       "    </tr>\n",
       "    <tr>\n",
       "      <th>3</th>\n",
       "      <td>2016-01-01 03:00:00</td>\n",
       "      <td>13</td>\n",
       "    </tr>\n",
       "    <tr>\n",
       "      <th>4</th>\n",
       "      <td>2016-01-01 04:00:00</td>\n",
       "      <td>35</td>\n",
       "    </tr>\n",
       "    <tr>\n",
       "      <th>5</th>\n",
       "      <td>2016-01-01 05:00:00</td>\n",
       "      <td>53</td>\n",
       "    </tr>\n",
       "    <tr>\n",
       "      <th>6</th>\n",
       "      <td>2016-01-01 06:00:00</td>\n",
       "      <td>25</td>\n",
       "    </tr>\n",
       "    <tr>\n",
       "      <th>7</th>\n",
       "      <td>2016-01-01 07:00:00</td>\n",
       "      <td>23</td>\n",
       "    </tr>\n",
       "    <tr>\n",
       "      <th>8</th>\n",
       "      <td>2016-01-01 08:00:00</td>\n",
       "      <td>21</td>\n",
       "    </tr>\n",
       "    <tr>\n",
       "      <th>9</th>\n",
       "      <td>2016-01-01 09:00:00</td>\n",
       "      <td>12</td>\n",
       "    </tr>\n",
       "  </tbody>\n",
       "</table>\n",
       "</div>"
      ],
      "text/plain": [
       "                 col1  col2\n",
       "0 2016-01-01 00:00:00    29\n",
       "1 2016-01-01 01:00:00    56\n",
       "2 2016-01-01 02:00:00    82\n",
       "3 2016-01-01 03:00:00    13\n",
       "4 2016-01-01 04:00:00    35\n",
       "5 2016-01-01 05:00:00    53\n",
       "6 2016-01-01 06:00:00    25\n",
       "7 2016-01-01 07:00:00    23\n",
       "8 2016-01-01 08:00:00    21\n",
       "9 2016-01-01 09:00:00    12"
      ]
     },
     "execution_count": 377,
     "metadata": {},
     "output_type": "execute_result"
    }
   ],
   "source": [
    "np.random.seed(seed=1111)\n",
    "data = np.random.randint(1, high=100, size=len(hours))\n",
    "df = pd.DataFrame({'col1': hours, 'col2': data})\n",
    "df.head(10)"
   ]
  },
  {
   "cell_type": "code",
   "execution_count": 378,
   "metadata": {
    "collapsed": false
   },
   "outputs": [
    {
     "name": "stdout",
     "output_type": "stream",
     "text": [
      "<class 'pandas.core.frame.DataFrame'>\n",
      "RangeIndex: 8017 entries, 0 to 8016\n",
      "Data columns (total 2 columns):\n",
      "col1    8017 non-null datetime64[ns]\n",
      "col2    8017 non-null int32\n",
      "dtypes: datetime64[ns](1), int32(1)\n",
      "memory usage: 94.0 KB\n"
     ]
    }
   ],
   "source": [
    "df.info()# Here is a short summary of a DataFrame"
   ]
  },
  {
   "cell_type": "markdown",
   "metadata": {},
   "source": [
    "We can select a time period between 2 dates from our DataFrame creating a new object ***selected_period***:"
   ]
  },
  {
   "cell_type": "code",
   "execution_count": 379,
   "metadata": {
    "collapsed": false
   },
   "outputs": [
    {
     "data": {
      "text/html": [
       "<div>\n",
       "<table border=\"1\" class=\"dataframe\">\n",
       "  <thead>\n",
       "    <tr style=\"text-align: right;\">\n",
       "      <th></th>\n",
       "      <th>col1</th>\n",
       "      <th>col2</th>\n",
       "    </tr>\n",
       "  </thead>\n",
       "  <tbody>\n",
       "    <tr>\n",
       "      <th>2904</th>\n",
       "      <td>2016-05-01 00:00:00</td>\n",
       "      <td>49</td>\n",
       "    </tr>\n",
       "    <tr>\n",
       "      <th>2905</th>\n",
       "      <td>2016-05-01 01:00:00</td>\n",
       "      <td>19</td>\n",
       "    </tr>\n",
       "    <tr>\n",
       "      <th>2906</th>\n",
       "      <td>2016-05-01 02:00:00</td>\n",
       "      <td>94</td>\n",
       "    </tr>\n",
       "    <tr>\n",
       "      <th>2907</th>\n",
       "      <td>2016-05-01 03:00:00</td>\n",
       "      <td>8</td>\n",
       "    </tr>\n",
       "    <tr>\n",
       "      <th>2908</th>\n",
       "      <td>2016-05-01 04:00:00</td>\n",
       "      <td>69</td>\n",
       "    </tr>\n",
       "    <tr>\n",
       "      <th>2909</th>\n",
       "      <td>2016-05-01 05:00:00</td>\n",
       "      <td>32</td>\n",
       "    </tr>\n",
       "    <tr>\n",
       "      <th>2910</th>\n",
       "      <td>2016-05-01 06:00:00</td>\n",
       "      <td>42</td>\n",
       "    </tr>\n",
       "    <tr>\n",
       "      <th>2911</th>\n",
       "      <td>2016-05-01 07:00:00</td>\n",
       "      <td>54</td>\n",
       "    </tr>\n",
       "    <tr>\n",
       "      <th>2912</th>\n",
       "      <td>2016-05-01 08:00:00</td>\n",
       "      <td>19</td>\n",
       "    </tr>\n",
       "    <tr>\n",
       "      <th>2913</th>\n",
       "      <td>2016-05-01 09:00:00</td>\n",
       "      <td>64</td>\n",
       "    </tr>\n",
       "    <tr>\n",
       "      <th>2914</th>\n",
       "      <td>2016-05-01 10:00:00</td>\n",
       "      <td>61</td>\n",
       "    </tr>\n",
       "    <tr>\n",
       "      <th>2915</th>\n",
       "      <td>2016-05-01 11:00:00</td>\n",
       "      <td>37</td>\n",
       "    </tr>\n",
       "    <tr>\n",
       "      <th>2916</th>\n",
       "      <td>2016-05-01 12:00:00</td>\n",
       "      <td>8</td>\n",
       "    </tr>\n",
       "    <tr>\n",
       "      <th>2917</th>\n",
       "      <td>2016-05-01 13:00:00</td>\n",
       "      <td>27</td>\n",
       "    </tr>\n",
       "    <tr>\n",
       "      <th>2918</th>\n",
       "      <td>2016-05-01 14:00:00</td>\n",
       "      <td>19</td>\n",
       "    </tr>\n",
       "    <tr>\n",
       "      <th>2919</th>\n",
       "      <td>2016-05-01 15:00:00</td>\n",
       "      <td>4</td>\n",
       "    </tr>\n",
       "    <tr>\n",
       "      <th>2920</th>\n",
       "      <td>2016-05-01 16:00:00</td>\n",
       "      <td>36</td>\n",
       "    </tr>\n",
       "    <tr>\n",
       "      <th>2921</th>\n",
       "      <td>2016-05-01 17:00:00</td>\n",
       "      <td>88</td>\n",
       "    </tr>\n",
       "    <tr>\n",
       "      <th>2922</th>\n",
       "      <td>2016-05-01 18:00:00</td>\n",
       "      <td>17</td>\n",
       "    </tr>\n",
       "    <tr>\n",
       "      <th>2923</th>\n",
       "      <td>2016-05-01 19:00:00</td>\n",
       "      <td>67</td>\n",
       "    </tr>\n",
       "    <tr>\n",
       "      <th>2924</th>\n",
       "      <td>2016-05-01 20:00:00</td>\n",
       "      <td>81</td>\n",
       "    </tr>\n",
       "    <tr>\n",
       "      <th>2925</th>\n",
       "      <td>2016-05-01 21:00:00</td>\n",
       "      <td>74</td>\n",
       "    </tr>\n",
       "    <tr>\n",
       "      <th>2926</th>\n",
       "      <td>2016-05-01 22:00:00</td>\n",
       "      <td>51</td>\n",
       "    </tr>\n",
       "    <tr>\n",
       "      <th>2927</th>\n",
       "      <td>2016-05-01 23:00:00</td>\n",
       "      <td>59</td>\n",
       "    </tr>\n",
       "    <tr>\n",
       "      <th>2928</th>\n",
       "      <td>2016-05-02 00:00:00</td>\n",
       "      <td>1</td>\n",
       "    </tr>\n",
       "  </tbody>\n",
       "</table>\n",
       "</div>"
      ],
      "text/plain": [
       "                    col1  col2\n",
       "2904 2016-05-01 00:00:00    49\n",
       "2905 2016-05-01 01:00:00    19\n",
       "2906 2016-05-01 02:00:00    94\n",
       "2907 2016-05-01 03:00:00     8\n",
       "2908 2016-05-01 04:00:00    69\n",
       "2909 2016-05-01 05:00:00    32\n",
       "2910 2016-05-01 06:00:00    42\n",
       "2911 2016-05-01 07:00:00    54\n",
       "2912 2016-05-01 08:00:00    19\n",
       "2913 2016-05-01 09:00:00    64\n",
       "2914 2016-05-01 10:00:00    61\n",
       "2915 2016-05-01 11:00:00    37\n",
       "2916 2016-05-01 12:00:00     8\n",
       "2917 2016-05-01 13:00:00    27\n",
       "2918 2016-05-01 14:00:00    19\n",
       "2919 2016-05-01 15:00:00     4\n",
       "2920 2016-05-01 16:00:00    36\n",
       "2921 2016-05-01 17:00:00    88\n",
       "2922 2016-05-01 18:00:00    17\n",
       "2923 2016-05-01 19:00:00    67\n",
       "2924 2016-05-01 20:00:00    81\n",
       "2925 2016-05-01 21:00:00    74\n",
       "2926 2016-05-01 22:00:00    51\n",
       "2927 2016-05-01 23:00:00    59\n",
       "2928 2016-05-02 00:00:00     1"
      ]
     },
     "execution_count": 379,
     "metadata": {},
     "output_type": "execute_result"
    }
   ],
   "source": [
    "selected_period = df[(df['col1'] > '2016-04-30 23:00:00') & (df['col1'] < '2016-05-02 01:00:00')]\n",
    "selected_period # We selected a 24 hour period."
   ]
  },
  {
   "cell_type": "markdown",
   "metadata": {},
   "source": [
    "Selecting a period is simpler, if we set 'Col1' as the index."
   ]
  },
  {
   "cell_type": "code",
   "execution_count": 380,
   "metadata": {
    "collapsed": false
   },
   "outputs": [
    {
     "data": {
      "text/html": [
       "<div>\n",
       "<table border=\"1\" class=\"dataframe\">\n",
       "  <thead>\n",
       "    <tr style=\"text-align: right;\">\n",
       "      <th></th>\n",
       "      <th>col2</th>\n",
       "    </tr>\n",
       "    <tr>\n",
       "      <th>col1</th>\n",
       "      <th></th>\n",
       "    </tr>\n",
       "  </thead>\n",
       "  <tbody>\n",
       "    <tr>\n",
       "      <th>2016-01-01 00:00:00</th>\n",
       "      <td>29</td>\n",
       "    </tr>\n",
       "    <tr>\n",
       "      <th>2016-01-01 01:00:00</th>\n",
       "      <td>56</td>\n",
       "    </tr>\n",
       "    <tr>\n",
       "      <th>2016-01-01 02:00:00</th>\n",
       "      <td>82</td>\n",
       "    </tr>\n",
       "    <tr>\n",
       "      <th>2016-01-01 03:00:00</th>\n",
       "      <td>13</td>\n",
       "    </tr>\n",
       "    <tr>\n",
       "      <th>2016-01-01 04:00:00</th>\n",
       "      <td>35</td>\n",
       "    </tr>\n",
       "  </tbody>\n",
       "</table>\n",
       "</div>"
      ],
      "text/plain": [
       "                     col2\n",
       "col1                     \n",
       "2016-01-01 00:00:00    29\n",
       "2016-01-01 01:00:00    56\n",
       "2016-01-01 02:00:00    82\n",
       "2016-01-01 03:00:00    13\n",
       "2016-01-01 04:00:00    35"
      ]
     },
     "execution_count": 380,
     "metadata": {},
     "output_type": "execute_result"
    }
   ],
   "source": [
    "df = df.set_index('col1')\n",
    "df.head()"
   ]
  },
  {
   "cell_type": "markdown",
   "metadata": {},
   "source": [
    "The index is now a DatetimeIndex not a RangeIndex."
   ]
  },
  {
   "cell_type": "code",
   "execution_count": 381,
   "metadata": {
    "collapsed": false
   },
   "outputs": [
    {
     "name": "stdout",
     "output_type": "stream",
     "text": [
      "<class 'pandas.core.frame.DataFrame'>\n",
      "DatetimeIndex: 8017 entries, 2016-01-01 00:00:00 to 2016-11-30 00:00:00\n",
      "Data columns (total 1 columns):\n",
      "col2    8017 non-null int32\n",
      "dtypes: int32(1)\n",
      "memory usage: 93.9 KB\n"
     ]
    }
   ],
   "source": [
    "df.info() "
   ]
  },
  {
   "cell_type": "markdown",
   "metadata": {},
   "source": [
    "Now that we set our DatetimeIndex as the index, we can select the same 24 hour period using **DataFrame.ix()**, a label-location based indexer. \n",
    "\n",
    "We will create a slice object with labels '2016-05-01 00:00:00':'2016-05-02 00:00:00'. Unlike in python slices, both the start and the stop are included here!\n",
    "\n",
    "Note, that to select the same 24 hours period, the slicing **'2016-05-01 00:00:00' : '2016-05-02 00:00:00'**  must be different here from our previous selection **df[(df['col1'] > '2016-04-30 23:00:00')  &  (df['col1'] < '2016-05-02 01:00:00')]** ."
   ]
  },
  {
   "cell_type": "code",
   "execution_count": 382,
   "metadata": {
    "collapsed": false
   },
   "outputs": [
    {
     "data": {
      "text/html": [
       "<div>\n",
       "<table border=\"1\" class=\"dataframe\">\n",
       "  <thead>\n",
       "    <tr style=\"text-align: right;\">\n",
       "      <th></th>\n",
       "      <th>col2</th>\n",
       "    </tr>\n",
       "    <tr>\n",
       "      <th>col1</th>\n",
       "      <th></th>\n",
       "    </tr>\n",
       "  </thead>\n",
       "  <tbody>\n",
       "    <tr>\n",
       "      <th>2016-05-01 00:00:00</th>\n",
       "      <td>49</td>\n",
       "    </tr>\n",
       "    <tr>\n",
       "      <th>2016-05-01 01:00:00</th>\n",
       "      <td>19</td>\n",
       "    </tr>\n",
       "    <tr>\n",
       "      <th>2016-05-01 02:00:00</th>\n",
       "      <td>94</td>\n",
       "    </tr>\n",
       "    <tr>\n",
       "      <th>2016-05-01 03:00:00</th>\n",
       "      <td>8</td>\n",
       "    </tr>\n",
       "    <tr>\n",
       "      <th>2016-05-01 04:00:00</th>\n",
       "      <td>69</td>\n",
       "    </tr>\n",
       "    <tr>\n",
       "      <th>2016-05-01 05:00:00</th>\n",
       "      <td>32</td>\n",
       "    </tr>\n",
       "    <tr>\n",
       "      <th>2016-05-01 06:00:00</th>\n",
       "      <td>42</td>\n",
       "    </tr>\n",
       "    <tr>\n",
       "      <th>2016-05-01 07:00:00</th>\n",
       "      <td>54</td>\n",
       "    </tr>\n",
       "    <tr>\n",
       "      <th>2016-05-01 08:00:00</th>\n",
       "      <td>19</td>\n",
       "    </tr>\n",
       "    <tr>\n",
       "      <th>2016-05-01 09:00:00</th>\n",
       "      <td>64</td>\n",
       "    </tr>\n",
       "    <tr>\n",
       "      <th>2016-05-01 10:00:00</th>\n",
       "      <td>61</td>\n",
       "    </tr>\n",
       "    <tr>\n",
       "      <th>2016-05-01 11:00:00</th>\n",
       "      <td>37</td>\n",
       "    </tr>\n",
       "    <tr>\n",
       "      <th>2016-05-01 12:00:00</th>\n",
       "      <td>8</td>\n",
       "    </tr>\n",
       "    <tr>\n",
       "      <th>2016-05-01 13:00:00</th>\n",
       "      <td>27</td>\n",
       "    </tr>\n",
       "    <tr>\n",
       "      <th>2016-05-01 14:00:00</th>\n",
       "      <td>19</td>\n",
       "    </tr>\n",
       "    <tr>\n",
       "      <th>2016-05-01 15:00:00</th>\n",
       "      <td>4</td>\n",
       "    </tr>\n",
       "    <tr>\n",
       "      <th>2016-05-01 16:00:00</th>\n",
       "      <td>36</td>\n",
       "    </tr>\n",
       "    <tr>\n",
       "      <th>2016-05-01 17:00:00</th>\n",
       "      <td>88</td>\n",
       "    </tr>\n",
       "    <tr>\n",
       "      <th>2016-05-01 18:00:00</th>\n",
       "      <td>17</td>\n",
       "    </tr>\n",
       "    <tr>\n",
       "      <th>2016-05-01 19:00:00</th>\n",
       "      <td>67</td>\n",
       "    </tr>\n",
       "    <tr>\n",
       "      <th>2016-05-01 20:00:00</th>\n",
       "      <td>81</td>\n",
       "    </tr>\n",
       "    <tr>\n",
       "      <th>2016-05-01 21:00:00</th>\n",
       "      <td>74</td>\n",
       "    </tr>\n",
       "    <tr>\n",
       "      <th>2016-05-01 22:00:00</th>\n",
       "      <td>51</td>\n",
       "    </tr>\n",
       "    <tr>\n",
       "      <th>2016-05-01 23:00:00</th>\n",
       "      <td>59</td>\n",
       "    </tr>\n",
       "    <tr>\n",
       "      <th>2016-05-02 00:00:00</th>\n",
       "      <td>1</td>\n",
       "    </tr>\n",
       "  </tbody>\n",
       "</table>\n",
       "</div>"
      ],
      "text/plain": [
       "                     col2\n",
       "col1                     \n",
       "2016-05-01 00:00:00    49\n",
       "2016-05-01 01:00:00    19\n",
       "2016-05-01 02:00:00    94\n",
       "2016-05-01 03:00:00     8\n",
       "2016-05-01 04:00:00    69\n",
       "2016-05-01 05:00:00    32\n",
       "2016-05-01 06:00:00    42\n",
       "2016-05-01 07:00:00    54\n",
       "2016-05-01 08:00:00    19\n",
       "2016-05-01 09:00:00    64\n",
       "2016-05-01 10:00:00    61\n",
       "2016-05-01 11:00:00    37\n",
       "2016-05-01 12:00:00     8\n",
       "2016-05-01 13:00:00    27\n",
       "2016-05-01 14:00:00    19\n",
       "2016-05-01 15:00:00     4\n",
       "2016-05-01 16:00:00    36\n",
       "2016-05-01 17:00:00    88\n",
       "2016-05-01 18:00:00    17\n",
       "2016-05-01 19:00:00    67\n",
       "2016-05-01 20:00:00    81\n",
       "2016-05-01 21:00:00    74\n",
       "2016-05-01 22:00:00    51\n",
       "2016-05-01 23:00:00    59\n",
       "2016-05-02 00:00:00     1"
      ]
     },
     "execution_count": 382,
     "metadata": {},
     "output_type": "execute_result"
    }
   ],
   "source": [
    "one_day = df.ix['2016-05-01 00:00:00':'2016-05-02 00:00:00']\n",
    "one_day"
   ]
  },
  {
   "cell_type": "markdown",
   "metadata": {},
   "source": [
    "With Pandas, we can easily visualize the data."
   ]
  },
  {
   "cell_type": "code",
   "execution_count": 383,
   "metadata": {
    "collapsed": false
   },
   "outputs": [
    {
     "data": {
      "text/plain": [
       "<matplotlib.axes._subplots.AxesSubplot at 0x12f44208>"
      ]
     },
     "execution_count": 383,
     "metadata": {},
     "output_type": "execute_result"
    },
    {
     "data": {
      "image/png": "[encoded data removed]",
      "text/plain": [
       "<matplotlib.figure.Figure at 0x12f70eb8>"
      ]
     },
     "metadata": {},
     "output_type": "display_data"
    }
   ],
   "source": [
    "one_day.plot(title= 'One Day Selection Graph (2016-05-01)')"
   ]
  },
  {
   "cell_type": "markdown",
   "metadata": {},
   "source": [
    "Now, that we selected a 24 hour period, let's have some fun with this. So, what can we do with this data...\n",
    "\n",
    "Let's say, we are interested in the hourly fluctuation (rise and fall) of the values during the selected 24 hours. Pandas makes this task very easy.\n",
    "\n",
    "We will use Pandas **DataFrame.shift()** to shift the index by 1 hour (1 row). "
   ]
  },
  {
   "cell_type": "code",
   "execution_count": 384,
   "metadata": {
    "collapsed": false
   },
   "outputs": [
    {
     "data": {
      "text/html": [
       "<div>\n",
       "<table border=\"1\" class=\"dataframe\">\n",
       "  <thead>\n",
       "    <tr style=\"text-align: right;\">\n",
       "      <th></th>\n",
       "      <th>col2</th>\n",
       "    </tr>\n",
       "    <tr>\n",
       "      <th>col1</th>\n",
       "      <th></th>\n",
       "    </tr>\n",
       "  </thead>\n",
       "  <tbody>\n",
       "    <tr>\n",
       "      <th>2016-05-01 00:00:00</th>\n",
       "      <td>NaN</td>\n",
       "    </tr>\n",
       "    <tr>\n",
       "      <th>2016-05-01 01:00:00</th>\n",
       "      <td>49.0</td>\n",
       "    </tr>\n",
       "    <tr>\n",
       "      <th>2016-05-01 02:00:00</th>\n",
       "      <td>19.0</td>\n",
       "    </tr>\n",
       "    <tr>\n",
       "      <th>2016-05-01 03:00:00</th>\n",
       "      <td>94.0</td>\n",
       "    </tr>\n",
       "    <tr>\n",
       "      <th>2016-05-01 04:00:00</th>\n",
       "      <td>8.0</td>\n",
       "    </tr>\n",
       "    <tr>\n",
       "      <th>2016-05-01 05:00:00</th>\n",
       "      <td>69.0</td>\n",
       "    </tr>\n",
       "    <tr>\n",
       "      <th>2016-05-01 06:00:00</th>\n",
       "      <td>32.0</td>\n",
       "    </tr>\n",
       "    <tr>\n",
       "      <th>2016-05-01 07:00:00</th>\n",
       "      <td>42.0</td>\n",
       "    </tr>\n",
       "    <tr>\n",
       "      <th>2016-05-01 08:00:00</th>\n",
       "      <td>54.0</td>\n",
       "    </tr>\n",
       "    <tr>\n",
       "      <th>2016-05-01 09:00:00</th>\n",
       "      <td>19.0</td>\n",
       "    </tr>\n",
       "    <tr>\n",
       "      <th>2016-05-01 10:00:00</th>\n",
       "      <td>64.0</td>\n",
       "    </tr>\n",
       "    <tr>\n",
       "      <th>2016-05-01 11:00:00</th>\n",
       "      <td>61.0</td>\n",
       "    </tr>\n",
       "    <tr>\n",
       "      <th>2016-05-01 12:00:00</th>\n",
       "      <td>37.0</td>\n",
       "    </tr>\n",
       "    <tr>\n",
       "      <th>2016-05-01 13:00:00</th>\n",
       "      <td>8.0</td>\n",
       "    </tr>\n",
       "    <tr>\n",
       "      <th>2016-05-01 14:00:00</th>\n",
       "      <td>27.0</td>\n",
       "    </tr>\n",
       "    <tr>\n",
       "      <th>2016-05-01 15:00:00</th>\n",
       "      <td>19.0</td>\n",
       "    </tr>\n",
       "    <tr>\n",
       "      <th>2016-05-01 16:00:00</th>\n",
       "      <td>4.0</td>\n",
       "    </tr>\n",
       "    <tr>\n",
       "      <th>2016-05-01 17:00:00</th>\n",
       "      <td>36.0</td>\n",
       "    </tr>\n",
       "    <tr>\n",
       "      <th>2016-05-01 18:00:00</th>\n",
       "      <td>88.0</td>\n",
       "    </tr>\n",
       "    <tr>\n",
       "      <th>2016-05-01 19:00:00</th>\n",
       "      <td>17.0</td>\n",
       "    </tr>\n",
       "    <tr>\n",
       "      <th>2016-05-01 20:00:00</th>\n",
       "      <td>67.0</td>\n",
       "    </tr>\n",
       "    <tr>\n",
       "      <th>2016-05-01 21:00:00</th>\n",
       "      <td>81.0</td>\n",
       "    </tr>\n",
       "    <tr>\n",
       "      <th>2016-05-01 22:00:00</th>\n",
       "      <td>74.0</td>\n",
       "    </tr>\n",
       "    <tr>\n",
       "      <th>2016-05-01 23:00:00</th>\n",
       "      <td>51.0</td>\n",
       "    </tr>\n",
       "    <tr>\n",
       "      <th>2016-05-02 00:00:00</th>\n",
       "      <td>59.0</td>\n",
       "    </tr>\n",
       "  </tbody>\n",
       "</table>\n",
       "</div>"
      ],
      "text/plain": [
       "                     col2\n",
       "col1                     \n",
       "2016-05-01 00:00:00   NaN\n",
       "2016-05-01 01:00:00  49.0\n",
       "2016-05-01 02:00:00  19.0\n",
       "2016-05-01 03:00:00  94.0\n",
       "2016-05-01 04:00:00   8.0\n",
       "2016-05-01 05:00:00  69.0\n",
       "2016-05-01 06:00:00  32.0\n",
       "2016-05-01 07:00:00  42.0\n",
       "2016-05-01 08:00:00  54.0\n",
       "2016-05-01 09:00:00  19.0\n",
       "2016-05-01 10:00:00  64.0\n",
       "2016-05-01 11:00:00  61.0\n",
       "2016-05-01 12:00:00  37.0\n",
       "2016-05-01 13:00:00   8.0\n",
       "2016-05-01 14:00:00  27.0\n",
       "2016-05-01 15:00:00  19.0\n",
       "2016-05-01 16:00:00   4.0\n",
       "2016-05-01 17:00:00  36.0\n",
       "2016-05-01 18:00:00  88.0\n",
       "2016-05-01 19:00:00  17.0\n",
       "2016-05-01 20:00:00  67.0\n",
       "2016-05-01 21:00:00  81.0\n",
       "2016-05-01 22:00:00  74.0\n",
       "2016-05-01 23:00:00  51.0\n",
       "2016-05-02 00:00:00  59.0"
      ]
     },
     "execution_count": 384,
     "metadata": {},
     "output_type": "execute_result"
    }
   ],
   "source": [
    "one_day.shift(1)"
   ]
  },
  {
   "cell_type": "markdown",
   "metadata": {},
   "source": [
    "All we have to do now is to subtract the shifted data frame from the original ***one_day*** before the shift and we can see the rise and fall of the values every hour of the day.\n",
    "\n",
    "Positive values show the rise and negative values indicate the fall for each hour of the selected period.\n",
    "\n",
    "This is a neat little trick..."
   ]
  },
  {
   "cell_type": "code",
   "execution_count": 385,
   "metadata": {
    "collapsed": false
   },
   "outputs": [
    {
     "data": {
      "text/html": [
       "<div>\n",
       "<table border=\"1\" class=\"dataframe\">\n",
       "  <thead>\n",
       "    <tr style=\"text-align: right;\">\n",
       "      <th></th>\n",
       "      <th>col2</th>\n",
       "    </tr>\n",
       "    <tr>\n",
       "      <th>col1</th>\n",
       "      <th></th>\n",
       "    </tr>\n",
       "  </thead>\n",
       "  <tbody>\n",
       "    <tr>\n",
       "      <th>2016-05-01 00:00:00</th>\n",
       "      <td>NaN</td>\n",
       "    </tr>\n",
       "    <tr>\n",
       "      <th>2016-05-01 01:00:00</th>\n",
       "      <td>-30.0</td>\n",
       "    </tr>\n",
       "    <tr>\n",
       "      <th>2016-05-01 02:00:00</th>\n",
       "      <td>75.0</td>\n",
       "    </tr>\n",
       "    <tr>\n",
       "      <th>2016-05-01 03:00:00</th>\n",
       "      <td>-86.0</td>\n",
       "    </tr>\n",
       "    <tr>\n",
       "      <th>2016-05-01 04:00:00</th>\n",
       "      <td>61.0</td>\n",
       "    </tr>\n",
       "    <tr>\n",
       "      <th>2016-05-01 05:00:00</th>\n",
       "      <td>-37.0</td>\n",
       "    </tr>\n",
       "    <tr>\n",
       "      <th>2016-05-01 06:00:00</th>\n",
       "      <td>10.0</td>\n",
       "    </tr>\n",
       "    <tr>\n",
       "      <th>2016-05-01 07:00:00</th>\n",
       "      <td>12.0</td>\n",
       "    </tr>\n",
       "    <tr>\n",
       "      <th>2016-05-01 08:00:00</th>\n",
       "      <td>-35.0</td>\n",
       "    </tr>\n",
       "    <tr>\n",
       "      <th>2016-05-01 09:00:00</th>\n",
       "      <td>45.0</td>\n",
       "    </tr>\n",
       "    <tr>\n",
       "      <th>2016-05-01 10:00:00</th>\n",
       "      <td>-3.0</td>\n",
       "    </tr>\n",
       "    <tr>\n",
       "      <th>2016-05-01 11:00:00</th>\n",
       "      <td>-24.0</td>\n",
       "    </tr>\n",
       "    <tr>\n",
       "      <th>2016-05-01 12:00:00</th>\n",
       "      <td>-29.0</td>\n",
       "    </tr>\n",
       "    <tr>\n",
       "      <th>2016-05-01 13:00:00</th>\n",
       "      <td>19.0</td>\n",
       "    </tr>\n",
       "    <tr>\n",
       "      <th>2016-05-01 14:00:00</th>\n",
       "      <td>-8.0</td>\n",
       "    </tr>\n",
       "    <tr>\n",
       "      <th>2016-05-01 15:00:00</th>\n",
       "      <td>-15.0</td>\n",
       "    </tr>\n",
       "    <tr>\n",
       "      <th>2016-05-01 16:00:00</th>\n",
       "      <td>32.0</td>\n",
       "    </tr>\n",
       "    <tr>\n",
       "      <th>2016-05-01 17:00:00</th>\n",
       "      <td>52.0</td>\n",
       "    </tr>\n",
       "    <tr>\n",
       "      <th>2016-05-01 18:00:00</th>\n",
       "      <td>-71.0</td>\n",
       "    </tr>\n",
       "    <tr>\n",
       "      <th>2016-05-01 19:00:00</th>\n",
       "      <td>50.0</td>\n",
       "    </tr>\n",
       "    <tr>\n",
       "      <th>2016-05-01 20:00:00</th>\n",
       "      <td>14.0</td>\n",
       "    </tr>\n",
       "    <tr>\n",
       "      <th>2016-05-01 21:00:00</th>\n",
       "      <td>-7.0</td>\n",
       "    </tr>\n",
       "    <tr>\n",
       "      <th>2016-05-01 22:00:00</th>\n",
       "      <td>-23.0</td>\n",
       "    </tr>\n",
       "    <tr>\n",
       "      <th>2016-05-01 23:00:00</th>\n",
       "      <td>8.0</td>\n",
       "    </tr>\n",
       "    <tr>\n",
       "      <th>2016-05-02 00:00:00</th>\n",
       "      <td>-58.0</td>\n",
       "    </tr>\n",
       "  </tbody>\n",
       "</table>\n",
       "</div>"
      ],
      "text/plain": [
       "                     col2\n",
       "col1                     \n",
       "2016-05-01 00:00:00   NaN\n",
       "2016-05-01 01:00:00 -30.0\n",
       "2016-05-01 02:00:00  75.0\n",
       "2016-05-01 03:00:00 -86.0\n",
       "2016-05-01 04:00:00  61.0\n",
       "2016-05-01 05:00:00 -37.0\n",
       "2016-05-01 06:00:00  10.0\n",
       "2016-05-01 07:00:00  12.0\n",
       "2016-05-01 08:00:00 -35.0\n",
       "2016-05-01 09:00:00  45.0\n",
       "2016-05-01 10:00:00  -3.0\n",
       "2016-05-01 11:00:00 -24.0\n",
       "2016-05-01 12:00:00 -29.0\n",
       "2016-05-01 13:00:00  19.0\n",
       "2016-05-01 14:00:00  -8.0\n",
       "2016-05-01 15:00:00 -15.0\n",
       "2016-05-01 16:00:00  32.0\n",
       "2016-05-01 17:00:00  52.0\n",
       "2016-05-01 18:00:00 -71.0\n",
       "2016-05-01 19:00:00  50.0\n",
       "2016-05-01 20:00:00  14.0\n",
       "2016-05-01 21:00:00  -7.0\n",
       "2016-05-01 22:00:00 -23.0\n",
       "2016-05-01 23:00:00   8.0\n",
       "2016-05-02 00:00:00 -58.0"
      ]
     },
     "execution_count": 385,
     "metadata": {},
     "output_type": "execute_result"
    }
   ],
   "source": [
    "fluctuation = one_day - one_day.shift(1)\n",
    "fluctuation"
   ]
  },
  {
   "cell_type": "markdown",
   "metadata": {},
   "source": [
    "This is how it looks like when the original values and the fluctuation are side by side."
   ]
  },
  {
   "cell_type": "code",
   "execution_count": 386,
   "metadata": {
    "collapsed": false
   },
   "outputs": [
    {
     "data": {
      "text/html": [
       "<div>\n",
       "<table border=\"1\" class=\"dataframe\">\n",
       "  <thead>\n",
       "    <tr style=\"text-align: right;\">\n",
       "      <th></th>\n",
       "      <th>Data</th>\n",
       "      <th>Fluctuation</th>\n",
       "    </tr>\n",
       "    <tr>\n",
       "      <th>col1</th>\n",
       "      <th></th>\n",
       "      <th></th>\n",
       "    </tr>\n",
       "  </thead>\n",
       "  <tbody>\n",
       "    <tr>\n",
       "      <th>2016-05-01 00:00:00</th>\n",
       "      <td>49</td>\n",
       "      <td>NaN</td>\n",
       "    </tr>\n",
       "    <tr>\n",
       "      <th>2016-05-01 01:00:00</th>\n",
       "      <td>19</td>\n",
       "      <td>-30.0</td>\n",
       "    </tr>\n",
       "    <tr>\n",
       "      <th>2016-05-01 02:00:00</th>\n",
       "      <td>94</td>\n",
       "      <td>75.0</td>\n",
       "    </tr>\n",
       "    <tr>\n",
       "      <th>2016-05-01 03:00:00</th>\n",
       "      <td>8</td>\n",
       "      <td>-86.0</td>\n",
       "    </tr>\n",
       "    <tr>\n",
       "      <th>2016-05-01 04:00:00</th>\n",
       "      <td>69</td>\n",
       "      <td>61.0</td>\n",
       "    </tr>\n",
       "    <tr>\n",
       "      <th>2016-05-01 05:00:00</th>\n",
       "      <td>32</td>\n",
       "      <td>-37.0</td>\n",
       "    </tr>\n",
       "    <tr>\n",
       "      <th>2016-05-01 06:00:00</th>\n",
       "      <td>42</td>\n",
       "      <td>10.0</td>\n",
       "    </tr>\n",
       "    <tr>\n",
       "      <th>2016-05-01 07:00:00</th>\n",
       "      <td>54</td>\n",
       "      <td>12.0</td>\n",
       "    </tr>\n",
       "    <tr>\n",
       "      <th>2016-05-01 08:00:00</th>\n",
       "      <td>19</td>\n",
       "      <td>-35.0</td>\n",
       "    </tr>\n",
       "    <tr>\n",
       "      <th>2016-05-01 09:00:00</th>\n",
       "      <td>64</td>\n",
       "      <td>45.0</td>\n",
       "    </tr>\n",
       "    <tr>\n",
       "      <th>2016-05-01 10:00:00</th>\n",
       "      <td>61</td>\n",
       "      <td>-3.0</td>\n",
       "    </tr>\n",
       "    <tr>\n",
       "      <th>2016-05-01 11:00:00</th>\n",
       "      <td>37</td>\n",
       "      <td>-24.0</td>\n",
       "    </tr>\n",
       "    <tr>\n",
       "      <th>2016-05-01 12:00:00</th>\n",
       "      <td>8</td>\n",
       "      <td>-29.0</td>\n",
       "    </tr>\n",
       "    <tr>\n",
       "      <th>2016-05-01 13:00:00</th>\n",
       "      <td>27</td>\n",
       "      <td>19.0</td>\n",
       "    </tr>\n",
       "    <tr>\n",
       "      <th>2016-05-01 14:00:00</th>\n",
       "      <td>19</td>\n",
       "      <td>-8.0</td>\n",
       "    </tr>\n",
       "    <tr>\n",
       "      <th>2016-05-01 15:00:00</th>\n",
       "      <td>4</td>\n",
       "      <td>-15.0</td>\n",
       "    </tr>\n",
       "    <tr>\n",
       "      <th>2016-05-01 16:00:00</th>\n",
       "      <td>36</td>\n",
       "      <td>32.0</td>\n",
       "    </tr>\n",
       "    <tr>\n",
       "      <th>2016-05-01 17:00:00</th>\n",
       "      <td>88</td>\n",
       "      <td>52.0</td>\n",
       "    </tr>\n",
       "    <tr>\n",
       "      <th>2016-05-01 18:00:00</th>\n",
       "      <td>17</td>\n",
       "      <td>-71.0</td>\n",
       "    </tr>\n",
       "    <tr>\n",
       "      <th>2016-05-01 19:00:00</th>\n",
       "      <td>67</td>\n",
       "      <td>50.0</td>\n",
       "    </tr>\n",
       "    <tr>\n",
       "      <th>2016-05-01 20:00:00</th>\n",
       "      <td>81</td>\n",
       "      <td>14.0</td>\n",
       "    </tr>\n",
       "    <tr>\n",
       "      <th>2016-05-01 21:00:00</th>\n",
       "      <td>74</td>\n",
       "      <td>-7.0</td>\n",
       "    </tr>\n",
       "    <tr>\n",
       "      <th>2016-05-01 22:00:00</th>\n",
       "      <td>51</td>\n",
       "      <td>-23.0</td>\n",
       "    </tr>\n",
       "    <tr>\n",
       "      <th>2016-05-01 23:00:00</th>\n",
       "      <td>59</td>\n",
       "      <td>8.0</td>\n",
       "    </tr>\n",
       "    <tr>\n",
       "      <th>2016-05-02 00:00:00</th>\n",
       "      <td>1</td>\n",
       "      <td>-58.0</td>\n",
       "    </tr>\n",
       "  </tbody>\n",
       "</table>\n",
       "</div>"
      ],
      "text/plain": [
       "                     Data  Fluctuation\n",
       "col1                                  \n",
       "2016-05-01 00:00:00    49          NaN\n",
       "2016-05-01 01:00:00    19        -30.0\n",
       "2016-05-01 02:00:00    94         75.0\n",
       "2016-05-01 03:00:00     8        -86.0\n",
       "2016-05-01 04:00:00    69         61.0\n",
       "2016-05-01 05:00:00    32        -37.0\n",
       "2016-05-01 06:00:00    42         10.0\n",
       "2016-05-01 07:00:00    54         12.0\n",
       "2016-05-01 08:00:00    19        -35.0\n",
       "2016-05-01 09:00:00    64         45.0\n",
       "2016-05-01 10:00:00    61         -3.0\n",
       "2016-05-01 11:00:00    37        -24.0\n",
       "2016-05-01 12:00:00     8        -29.0\n",
       "2016-05-01 13:00:00    27         19.0\n",
       "2016-05-01 14:00:00    19         -8.0\n",
       "2016-05-01 15:00:00     4        -15.0\n",
       "2016-05-01 16:00:00    36         32.0\n",
       "2016-05-01 17:00:00    88         52.0\n",
       "2016-05-01 18:00:00    17        -71.0\n",
       "2016-05-01 19:00:00    67         50.0\n",
       "2016-05-01 20:00:00    81         14.0\n",
       "2016-05-01 21:00:00    74         -7.0\n",
       "2016-05-01 22:00:00    51        -23.0\n",
       "2016-05-01 23:00:00    59          8.0\n",
       "2016-05-02 00:00:00     1        -58.0"
      ]
     },
     "execution_count": 386,
     "metadata": {},
     "output_type": "execute_result"
    }
   ],
   "source": [
    "fluctuation_plot = pd.DataFrame({'Data': one_day['col2'], 'Fluctuation': fluctuation['col2'] })\n",
    "fluctuation_plot"
   ]
  },
  {
   "cell_type": "markdown",
   "metadata": {},
   "source": [
    "We can also easily visualize the values and the fluctuation throughout the selected day."
   ]
  },
  {
   "cell_type": "code",
   "execution_count": 387,
   "metadata": {
    "collapsed": false
   },
   "outputs": [
    {
     "data": {
      "text/plain": [
       "<matplotlib.axes._subplots.AxesSubplot at 0x12fd8da0>"
      ]
     },
     "execution_count": 387,
     "metadata": {},
     "output_type": "execute_result"
    },
    {
     "data": {
      "image/png": "[encoded data removed]",
      "text/plain": [
       "<matplotlib.figure.Figure at 0x12fea780>"
      ]
     },
     "metadata": {},
     "output_type": "display_data"
    }
   ],
   "source": [
    "fluctuation_plot.plot(title= 'Data and Fluctuation on 2016-05-01')"
   ]
  },
  {
   "cell_type": "markdown",
   "metadata": {},
   "source": [
    "**DatetimeIndex & Timestamps**"
   ]
  },
  {
   "cell_type": "markdown",
   "metadata": {},
   "source": [
    "Another type of timeseries data that's worth mentioning is **time-stamped data**. \n",
    "\n",
    "Creating a Timestamp couldn't be simpler. "
   ]
  },
  {
   "cell_type": "code",
   "execution_count": 388,
   "metadata": {
    "collapsed": false
   },
   "outputs": [
    {
     "data": {
      "text/plain": [
       "Timestamp('2016-11-30 00:00:00')"
      ]
     },
     "execution_count": 388,
     "metadata": {},
     "output_type": "execute_result"
    }
   ],
   "source": [
    "pd.Timestamp('2016-11-30') # Just apply pd.Timestamp"
   ]
  },
  {
   "cell_type": "code",
   "execution_count": 389,
   "metadata": {
    "collapsed": false
   },
   "outputs": [
    {
     "data": {
      "text/plain": [
       "Timestamp('2016-11-29 00:00:00')"
      ]
     },
     "execution_count": 389,
     "metadata": {},
     "output_type": "execute_result"
    }
   ],
   "source": [
    "pd.Timestamp(2016, 11, 29)"
   ]
  },
  {
   "cell_type": "markdown",
   "metadata": {},
   "source": [
    "To convert a Series to DatetimeIndex, we use the **pandas.to_datetime()** function. In the DataFrame below, the Date Time column contains 'date-like' values. But when we check the type (.dtypes), we can see that the data type is not datetime64[ns].\n",
    "\n",
    "Thanks to Pandas, all we will have to do to convert this object to datetime64[ns] is to apply the to_datetime function."
   ]
  },
  {
   "cell_type": "code",
   "execution_count": 390,
   "metadata": {
    "collapsed": false
   },
   "outputs": [
    {
     "data": {
      "text/html": [
       "<div>\n",
       "<table border=\"1\" class=\"dataframe\">\n",
       "  <thead>\n",
       "    <tr style=\"text-align: right;\">\n",
       "      <th></th>\n",
       "      <th>Col1</th>\n",
       "      <th>Date Time</th>\n",
       "    </tr>\n",
       "  </thead>\n",
       "  <tbody>\n",
       "    <tr>\n",
       "      <th>0</th>\n",
       "      <td>a</td>\n",
       "      <td>1/26/2016 07:03</td>\n",
       "    </tr>\n",
       "    <tr>\n",
       "      <th>1</th>\n",
       "      <td>b</td>\n",
       "      <td>1/26/2016 07:00</td>\n",
       "    </tr>\n",
       "    <tr>\n",
       "      <th>2</th>\n",
       "      <td>c</td>\n",
       "      <td>1/26/2016 14:46</td>\n",
       "    </tr>\n",
       "    <tr>\n",
       "      <th>3</th>\n",
       "      <td>d</td>\n",
       "      <td>1/26/2016 17:46</td>\n",
       "    </tr>\n",
       "    <tr>\n",
       "      <th>4</th>\n",
       "      <td>e</td>\n",
       "      <td>1/26/2016 14:48</td>\n",
       "    </tr>\n",
       "  </tbody>\n",
       "</table>\n",
       "</div>"
      ],
      "text/plain": [
       "  Col1        Date Time\n",
       "0    a  1/26/2016 07:03\n",
       "1    b  1/26/2016 07:00\n",
       "2    c  1/26/2016 14:46\n",
       "3    d  1/26/2016 17:46\n",
       "4    e  1/26/2016 14:48"
      ]
     },
     "execution_count": 390,
     "metadata": {},
     "output_type": "execute_result"
    }
   ],
   "source": [
    "d = pd.DataFrame({'Date Time': ['1/26/2016 07:03', '1/26/2016 07:00', '1/26/2016 14:46', '1/26/2016 17:46', '1/26/2016 14:48'], 'Col1': ['a','b','c','d','e']})\n",
    "d"
   ]
  },
  {
   "cell_type": "code",
   "execution_count": 391,
   "metadata": {
    "collapsed": false
   },
   "outputs": [
    {
     "data": {
      "text/plain": [
       "Col1         object\n",
       "Date Time    object\n",
       "dtype: object"
      ]
     },
     "execution_count": 391,
     "metadata": {},
     "output_type": "execute_result"
    }
   ],
   "source": [
    "d.dtypes"
   ]
  },
  {
   "cell_type": "code",
   "execution_count": 392,
   "metadata": {
    "collapsed": false
   },
   "outputs": [
    {
     "data": {
      "text/html": [
       "<div>\n",
       "<table border=\"1\" class=\"dataframe\">\n",
       "  <thead>\n",
       "    <tr style=\"text-align: right;\">\n",
       "      <th></th>\n",
       "      <th>Col1</th>\n",
       "      <th>Date Time</th>\n",
       "    </tr>\n",
       "  </thead>\n",
       "  <tbody>\n",
       "    <tr>\n",
       "      <th>0</th>\n",
       "      <td>a</td>\n",
       "      <td>2016-01-26 07:03:00</td>\n",
       "    </tr>\n",
       "    <tr>\n",
       "      <th>1</th>\n",
       "      <td>b</td>\n",
       "      <td>2016-01-26 07:00:00</td>\n",
       "    </tr>\n",
       "    <tr>\n",
       "      <th>2</th>\n",
       "      <td>c</td>\n",
       "      <td>2016-01-26 14:46:00</td>\n",
       "    </tr>\n",
       "    <tr>\n",
       "      <th>3</th>\n",
       "      <td>d</td>\n",
       "      <td>2016-01-26 17:46:00</td>\n",
       "    </tr>\n",
       "    <tr>\n",
       "      <th>4</th>\n",
       "      <td>e</td>\n",
       "      <td>2016-01-26 14:48:00</td>\n",
       "    </tr>\n",
       "  </tbody>\n",
       "</table>\n",
       "</div>"
      ],
      "text/plain": [
       "  Col1           Date Time\n",
       "0    a 2016-01-26 07:03:00\n",
       "1    b 2016-01-26 07:00:00\n",
       "2    c 2016-01-26 14:46:00\n",
       "3    d 2016-01-26 17:46:00\n",
       "4    e 2016-01-26 14:48:00"
      ]
     },
     "execution_count": 392,
     "metadata": {},
     "output_type": "execute_result"
    }
   ],
   "source": [
    "d['Date Time'] = pd.to_datetime(d['Date Time']) # Converting to datetime64[ns]\n",
    "d"
   ]
  },
  {
   "cell_type": "code",
   "execution_count": 393,
   "metadata": {
    "collapsed": false
   },
   "outputs": [
    {
     "data": {
      "text/plain": [
       "Col1                 object\n",
       "Date Time    datetime64[ns]\n",
       "dtype: object"
      ]
     },
     "execution_count": 393,
     "metadata": {},
     "output_type": "execute_result"
    }
   ],
   "source": [
    "d.dtypes # Date Time column is converted"
   ]
  },
  {
   "cell_type": "markdown",
   "metadata": {},
   "source": [
    "The Date Time column values are now converted to datetime64[ns].\n",
    "Yes, it is that simple. This is why we love Pandas."
   ]
  },
  {
   "cell_type": "markdown",
   "metadata": {},
   "source": [
    "**Resampling**"
   ]
  },
  {
   "cell_type": "markdown",
   "metadata": {},
   "source": [
    "Resampling is a powerful functionality used for frequency conversion. We will apply this function to our data **one_day** which we selected earlier for a 24 hour period.\n",
    "\n",
    "Remember, the frequency of our original data is one hour. We will apply **DataFrame.resample()** to convert the hourly frequency to a 6 hour frequency data and check the mean for each 6 hour period within the selected 24 hours.\n",
    "\n",
    "Again, this is another situation where we only need to use a short, simple 'one-liner' code. \n",
    "\n",
    "Under the hood, Pandas .resample() is a time-based groupby, followed by a reduction method on each of its groups. Resampling comes in handy in financial applications but it can be useful in many other areas as well."
   ]
  },
  {
   "cell_type": "code",
   "execution_count": 394,
   "metadata": {
    "collapsed": false
   },
   "outputs": [
    {
     "data": {
      "text/html": [
       "<div>\n",
       "<table border=\"1\" class=\"dataframe\">\n",
       "  <thead>\n",
       "    <tr style=\"text-align: right;\">\n",
       "      <th></th>\n",
       "      <th>col2</th>\n",
       "    </tr>\n",
       "    <tr>\n",
       "      <th>col1</th>\n",
       "      <th></th>\n",
       "    </tr>\n",
       "  </thead>\n",
       "  <tbody>\n",
       "    <tr>\n",
       "      <th>2016-05-01 00:00:00</th>\n",
       "      <td>45.166667</td>\n",
       "    </tr>\n",
       "    <tr>\n",
       "      <th>2016-05-01 06:00:00</th>\n",
       "      <td>46.166667</td>\n",
       "    </tr>\n",
       "    <tr>\n",
       "      <th>2016-05-01 12:00:00</th>\n",
       "      <td>30.333333</td>\n",
       "    </tr>\n",
       "    <tr>\n",
       "      <th>2016-05-01 18:00:00</th>\n",
       "      <td>58.166667</td>\n",
       "    </tr>\n",
       "  </tbody>\n",
       "</table>\n",
       "</div>"
      ],
      "text/plain": [
       "                          col2\n",
       "col1                          \n",
       "2016-05-01 00:00:00  45.166667\n",
       "2016-05-01 06:00:00  46.166667\n",
       "2016-05-01 12:00:00  30.333333\n",
       "2016-05-01 18:00:00  58.166667"
      ]
     },
     "execution_count": 394,
     "metadata": {},
     "output_type": "execute_result"
    }
   ],
   "source": [
    "one_day.resample('6H').mean()[:-1]"
   ]
  },
  {
   "cell_type": "code",
   "execution_count": 395,
   "metadata": {
    "collapsed": false
   },
   "outputs": [
    {
     "data": {
      "text/plain": [
       "<matplotlib.axes._subplots.AxesSubplot at 0x13056208>"
      ]
     },
     "execution_count": 395,
     "metadata": {},
     "output_type": "execute_result"
    },
    {
     "data": {
      "image/png": "[encoded data removed]",
      "text/plain": [
       "<matplotlib.figure.Figure at 0x1305ce48>"
      ]
     },
     "metadata": {},
     "output_type": "display_data"
    }
   ],
   "source": [
    "one_day.resample('6H').mean()[:-1].plot()"
   ]
  },
  {
   "cell_type": "markdown",
   "metadata": {},
   "source": [
    "We can also check the sum of the values in each 6 hour period."
   ]
  },
  {
   "cell_type": "code",
   "execution_count": 396,
   "metadata": {
    "collapsed": false
   },
   "outputs": [
    {
     "data": {
      "text/html": [
       "<div>\n",
       "<table border=\"1\" class=\"dataframe\">\n",
       "  <thead>\n",
       "    <tr style=\"text-align: right;\">\n",
       "      <th></th>\n",
       "      <th>col2</th>\n",
       "    </tr>\n",
       "    <tr>\n",
       "      <th>col1</th>\n",
       "      <th></th>\n",
       "    </tr>\n",
       "  </thead>\n",
       "  <tbody>\n",
       "    <tr>\n",
       "      <th>2016-05-01 00:00:00</th>\n",
       "      <td>271</td>\n",
       "    </tr>\n",
       "    <tr>\n",
       "      <th>2016-05-01 06:00:00</th>\n",
       "      <td>277</td>\n",
       "    </tr>\n",
       "    <tr>\n",
       "      <th>2016-05-01 12:00:00</th>\n",
       "      <td>182</td>\n",
       "    </tr>\n",
       "    <tr>\n",
       "      <th>2016-05-01 18:00:00</th>\n",
       "      <td>349</td>\n",
       "    </tr>\n",
       "  </tbody>\n",
       "</table>\n",
       "</div>"
      ],
      "text/plain": [
       "                     col2\n",
       "col1                     \n",
       "2016-05-01 00:00:00   271\n",
       "2016-05-01 06:00:00   277\n",
       "2016-05-01 12:00:00   182\n",
       "2016-05-01 18:00:00   349"
      ]
     },
     "execution_count": 396,
     "metadata": {},
     "output_type": "execute_result"
    }
   ],
   "source": [
    "one_day.resample('6H').sum()[:-1]"
   ]
  },
  {
   "cell_type": "code",
   "execution_count": 397,
   "metadata": {
    "collapsed": false
   },
   "outputs": [
    {
     "data": {
      "text/plain": [
       "<matplotlib.axes._subplots.AxesSubplot at 0x130ca668>"
      ]
     },
     "execution_count": 397,
     "metadata": {},
     "output_type": "execute_result"
    },
    {
     "data": {
      "image/png": "[encoded data removed]",
      "text/plain": [
       "<matplotlib.figure.Figure at 0x131102e8>"
      ]
     },
     "metadata": {},
     "output_type": "display_data"
    }
   ],
   "source": [
    "one_day.resample('6H').sum()[:-1].plot()"
   ]
  },
  {
   "cell_type": "markdown",
   "metadata": {},
   "source": [
    "There are, of course, many advanced TS functions; I just wanted to present a glimpse into Pandas TS with these simple examples of the most basic Pandas TS functionalities."
   ]
  },
  {
   "cell_type": "markdown",
   "metadata": {},
   "source": [
    "Joe T. Boka \n",
    "Tenger Data Technologies Ltd. \n",
    "www.tengerdata.com\n",
    "2016-11-30"
   ]
  }
 ],
 "metadata": {
  "kernelspec": {
   "display_name": "Python 3",
   "language": "python",
   "name": "python3"
  },
  "language_info": {
   "codemirror_mode": {
    "name": "ipython",
    "version": 3
   },
   "file_extension": ".py",
   "mimetype": "text/x-python",
   "name": "python",
   "nbconvert_exporter": "python",
   "pygments_lexer": "ipython3",
   "version": "3.5.2"
  }
 },
 "nbformat": 4,
 "nbformat_minor": 1
}
